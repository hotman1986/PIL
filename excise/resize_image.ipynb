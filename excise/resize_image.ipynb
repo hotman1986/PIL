{
 "cells": [
  {
   "cell_type": "code",
   "execution_count": 12,
   "metadata": {},
   "outputs": [],
   "source": [
    "import PIL\n",
    "from PIL import Image\n",
    "import os\n",
    "import skimage\n",
    "from skimage import data\n",
    "from skimage import transform\n",
    "import matplotlib.pyplot as plt"
   ]
  },
  {
   "cell_type": "code",
   "execution_count": 13,
   "metadata": {},
   "outputs": [],
   "source": [
    "ROOT_PATH = '/home/tang/targa/image_size_exp/test_pretraining_inceptionv3/'\n",
    "load_data_directory = os.path.join(ROOT_PATH,\"apples/apple/\")"
   ]
  },
  {
   "cell_type": "code",
   "execution_count": 14,
   "metadata": {},
   "outputs": [],
   "source": [
    "from skimage import data, color\n",
    "from skimage.transform import rescale, resize, downscale_local_mean\n",
    "import os"
   ]
  },
  {
   "cell_type": "code",
   "execution_count": 28,
   "metadata": {},
   "outputs": [],
   "source": [
    "size_name='adjust'\n",
    "size=(350,350)\n",
    "#resize the images\n",
    "\"\"\"\n",
    "    for f in os.listdir(load_data_directory):\n",
    "        if f.endswith('.jpg'):\n",
    "            name,fm = f.split('.')\n",
    "            \n",
    "            im = Image.open(load_data_directory+'/'+name+'.jpg')\n",
    "            rgb_im=im.convert('RGB')\n",
    "            img=rgb_im.resize(size, Image.ANTIALIAS)\n",
    "            img.save(ROOT_PATH+'/apples/'+size_name+'/'+str(i)+'.jpg')\"\"\"\n",
    "i=0\n",
    "for f in os.listdir(load_data_directory):\n",
    "    if f.endswith('.png'):\n",
    "        name,fm = f.split('.')\n",
    "        im = Image.open(load_data_directory+'/'+name+'.png')\n",
    "        rgb_im=im.convert('RGB')\n",
    "        img=rgb_im.resize(size, Image.ANTIALIAS)\n",
    "        img.save(ROOT_PATH+'/apples/'+size_name+'/'+str(i)+'.jpg')\n",
    "        i+=1\n",
    "    \n"
   ]
  },
  {
   "cell_type": "code",
   "execution_count": 24,
   "metadata": {},
   "outputs": [
    {
     "data": {
      "text/plain": [
       "<matplotlib.image.AxesImage at 0x7f701f953ef0>"
      ]
     },
     "execution_count": 24,
     "metadata": {},
     "output_type": "execute_result"
    },
    {
     "data": {
      "image/png": "[encoded data removed]",
      "text/plain": [
       "<Figure size 432x288 with 1 Axes>"
      ]
     },
     "metadata": {},
     "output_type": "display_data"
    }
   ],
   "source": [
    "plt.imshow(img)"
   ]
  },
  {
   "cell_type": "code",
   "execution_count": 25,
   "metadata": {},
   "outputs": [
    {
     "data": {
      "text/plain": [
       "97"
      ]
     },
     "execution_count": 25,
     "metadata": {},
     "output_type": "execute_result"
    }
   ],
   "source": [
    "i"
   ]
  },
  {
   "cell_type": "code",
   "execution_count": 21,
   "metadata": {},
   "outputs": [
    {
     "data": {
      "text/plain": [
       "(100, 100)"
      ]
     },
     "execution_count": 21,
     "metadata": {},
     "output_type": "execute_result"
    }
   ],
   "source": [
    "img.size"
   ]
  },
  {
   "cell_type": "code",
   "execution_count": 5,
   "metadata": {},
   "outputs": [
    {
     "data": {
      "text/plain": [
       "['cross_stride_padding.ipynb',\n",
       " 'big',\n",
       " 'apple',\n",
       " 'small',\n",
       " 'constant_padding.ipynb',\n",
       " 'mid',\n",
       " '.ipynb_checkpoints']"
      ]
     },
     "execution_count": 5,
     "metadata": {},
     "output_type": "execute_result"
    }
   ],
   "source": [
    "os.listdir(load_data_directory)"
   ]
  },
  {
   "cell_type": "code",
   "execution_count": null,
   "metadata": {},
   "outputs": [],
   "source": []
  },
  {
   "cell_type": "code",
   "execution_count": null,
   "metadata": {},
   "outputs": [],
   "source": []
  }
 ],
 "metadata": {
  "kernelspec": {
   "display_name": "Python 3",
   "language": "python",
   "name": "python3"
  },
  "language_info": {
   "codemirror_mode": {
    "name": "ipython",
    "version": 3
   },
   "file_extension": ".py",
   "mimetype": "text/x-python",
   "name": "python",
   "nbconvert_exporter": "python",
   "pygments_lexer": "ipython3",
   "version": "3.5.2"
  }
 },
 "nbformat": 4,
 "nbformat_minor": 2
}
